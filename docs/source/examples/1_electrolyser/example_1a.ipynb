{
 "cells": [
  {
   "cell_type": "markdown",
   "metadata": {},
   "source": [
    "# 1a. Electrolyser Characteristics\n",
    "\n"
   ]
  },
  {
   "cell_type": "markdown",
   "metadata": {},
   "source": [
    "```{note}\n",
    "This example uses plotly == 5.6.0 to plot results.\n",
    "```"
   ]
  },
  {
   "cell_type": "markdown",
   "metadata": {},
   "source": [
    "Importing Packages"
   ]
  },
  {
   "cell_type": "code",
   "execution_count": 2,
   "metadata": {},
   "outputs": [],
   "source": [
    "# NEMGLO Packages\n",
    "from nemglo import *\n",
    "\n",
    "# Generic Packages\n",
    "import pandas as pd\n",
    "import plotly.graph_objects as go\n",
    "from plotly.subplots import make_subplots"
   ]
  },
  {
   "cell_type": "code",
   "execution_count": 3,
   "metadata": {},
   "outputs": [],
   "source": [
    "# Display plotly chart in a browser (optional)\n",
    "import plotly.io as pio\n",
    "pio.renderers.default = \"browser\""
   ]
  },
  {
   "cell_type": "markdown",
   "metadata": {},
   "source": [
    "Loading the Historical AEMO price data"
   ]
  },
  {
   "cell_type": "code",
   "execution_count": 4,
   "metadata": {},
   "outputs": [
    {
     "name": "stdout",
     "output_type": "stream",
     "text": [
      "Compiling data for table DISPATCHPRICE.\n",
      "Returning DISPATCHPRICE.\n"
     ]
    }
   ],
   "source": [
    "inputdata = nemosis_data(intlength=30, local_cache=r'E:\\TEMPCACHE')\n",
    "start = \"02/01/2020 00:00\"\n",
    "end = \"09/01/2020 00:00\"\n",
    "region = 'VIC1'\n",
    "inputdata.set_dates(start, end)\n",
    "inputdata.set_region(region)\n",
    "prices = inputdata.get_prices()"
   ]
  },
  {
   "cell_type": "markdown",
   "metadata": {},
   "source": [
    "## Hydrogen Production Benefit Price\n",
    "The **H2 price** feature is optional, yet recommended if your model does not use production targets, in order to incentivise the electrolyser to operate and maximise its load capacity factor. The `h2_price_kg` parameter is set withint the `Electrolyser.load_h2_parameters_preset` function call.\n",
    "\n",
    "This example demonstrates the impact of changing this parameter on the optimiser results."
   ]
  },
  {
   "cell_type": "code",
   "execution_count": 5,
   "metadata": {},
   "outputs": [],
   "source": [
    "P2G = Plan(identifier = \"P2G\")\n",
    "P2G.load_market_prices(prices)"
   ]
  },
  {
   "cell_type": "code",
   "execution_count": 6,
   "metadata": {},
   "outputs": [],
   "source": [
    "h2_price_points = [1.0,2.0,3.0,4.0,5.0,6.0]"
   ]
  },
  {
   "cell_type": "code",
   "execution_count": 7,
   "metadata": {},
   "outputs": [
    {
     "name": "stdout",
     "output_type": "stream",
     "text": [
      "OPTIMISATION COMPLETE, Obj Value: -52760.22252020205\n",
      "OPTIMISATION COMPLETE, Obj Value: -80327.85879292933\n",
      "OPTIMISATION COMPLETE, Obj Value: -137818.77469823236\n",
      "OPTIMISATION COMPLETE, Obj Value: -273552.0548232324\n",
      "OPTIMISATION COMPLETE, Obj Value: -478009.83247474744\n",
      "OPTIMISATION COMPLETE, Obj Value: -719478.0522853544\n"
     ]
    }
   ],
   "source": [
    "result_load = []\n",
    "for h2_price in h2_price_points:\n",
    "    P2G = Plan(identifier = \"P2G\")\n",
    "    P2G.load_market_prices(prices)\n",
    "\n",
    "    h2e = Electrolyser(P2G, identifier='H2E')\n",
    "    h2e.load_h2_parameters_preset(capacity = 100.0,\n",
    "                                maxload = 100.0,\n",
    "                                minload = 20.0,\n",
    "                                offload = 0.0,\n",
    "                                electrolyser_type = 'PEM',\n",
    "                                sec_profile = 'fixed',\n",
    "                                h2_price_kg = h2_price)\n",
    "    h2e.add_electrolyser_operation()\n",
    "\n",
    "    P2G.optimise()\n",
    "\n",
    "    result_load += [P2G.get_load()]\n"
   ]
  },
  {
   "cell_type": "code",
   "execution_count": 37,
   "metadata": {},
   "outputs": [],
   "source": [
    "PALETTE = ['#b2d4ee','#849db1','#4f6980',\n",
    "           '#B4E3BC','#89AE8F','#638b66',\n",
    "           '#ffb04f','#de9945','#af7635',\n",
    "           '#ff7371','#d6635f','#b65551',\n",
    "           '#AD134C','#cc688d','#ff82b0']  \n",
    "\n",
    "fig = make_subplots(rows=8, cols=1, subplot_titles=(\"<b>Price</b>\",None,\"<b>Outputs</b>\"),\n",
    "                    specs=[[{'rowspan':2}], [{}], [{}], [{}], [{}], [{}], [{}], [{}]])\n",
    "fig.update_annotations(font=dict(size=20, family=\"Times New Roman\"))\n",
    "\n",
    "fmt_timestamps = [dt.strftime(prices['Time'][i], \"%d-%b %H:%M\") \\\n",
    "                  for i in range(len(prices))]\n",
    "fig.add_trace(go.Scatter(x=prices['Time'], y=prices['Prices'], line={'color':'#972f42'},\n",
    "                         showlegend=False), row=1, col=1)\n",
    "fig.update_yaxes(title=\"Price<br>($/MWh)\", showgrid=False, gridcolor='slategrey',\n",
    "                 range=[-250,150], mirror=True, titlefont=dict(size=18),\n",
    "                 tickfont=dict(size=18), overlaying=\"y\", side=\"left\", row=1, col=1)\n",
    "fig.update_xaxes(title=None, mirror=True, showticklabels=False, row=1, col=1)\n",
    "\n",
    "for idx, element in enumerate(result_load):\n",
    "    if idx < 5:\n",
    "        fig.add_trace(go.Scatter(x=element['time'], y=element['value'],name=\"${}/kg\" \\\n",
    "            .format(h2_price_points[idx]), line={'color':PALETTE[1+3*idx]}, xaxis=\"x2\",\n",
    "                    yaxis=\"y\"), row=idx+3, col=1)\n",
    "        fig.update_yaxes(title=\"Load<br>(MW)\", showgrid=False, range=[-10,140],\n",
    "                         mirror=True, titlefont=dict(size=18), tickfont=dict(size=18),\n",
    "                         tickvals=[i for i in range(0, 151, 50)], row=idx+3, col=1)\n",
    "        fig.update_xaxes(showticklabels=False, row=idx+3, col=1)\n",
    "    else:\n",
    "        fig.add_trace(go.Scatter(x=element['time'], y=element['value'],name=\"${}/kg\" \\\n",
    "            .format(h2_price_points[idx]), line={'color':'#7F22A6'}), row=idx+3, col=1)\n",
    "        fig.update_yaxes(title=\"Load<br>(MW)\", showgrid=False, range=[-10,140],\n",
    "                         mirror=True, titlefont=dict(size=18), tickfont=dict(size=18),\n",
    "                         tickvals=[i for i in range(0, 151, 50)], row=idx+3, col=1)\n",
    "        fig.update_xaxes(title=\"Time\", showgrid=False, mirror=False,\n",
    "                         titlefont=dict(size=18), tickfont=dict(size=18), tickangle=-45,\n",
    "                         tickformat=\"%d-%b\",  domain=[0, 1], row=idx+3, col=1)\n",
    "\n",
    "fig.update_layout(title='<b>NEMGLO Electrolyser H2 Price Sensitivity<br>' + \\\n",
    "                        '<sup>VIC: Jan-2020</sup></b>', titlefont=dict(size=24),\n",
    "                  margin=dict(l=20, r=20, t=100, b=0), \n",
    "                  legend=dict(xanchor='center',x=0.5, y=-0.15, orientation='h',\n",
    "                              font=dict(size=20)),\n",
    "                  template=\"simple_white\", font_family=\"Times New Roman\",\n",
    "                  width=1000, height=800)\n",
    "\n",
    "for ser in fig['data']:\n",
    "  ser['text'] = [dt.strftime(prices['Time'][i], \"%d-%b %H:%M\") \\\n",
    "                 for i in range(len(prices))]\n",
    "  ser['hovertemplate'] = 'Time: %{text}<br>Value: %{y}'\n",
    "\n",
    "fig.show()"
   ]
  },
  {
   "cell_type": "markdown",
   "metadata": {},
   "source": [
    "```{include} example_electrolyser_h2price.html \n",
    "```"
   ]
  },
  {
   "cell_type": "markdown",
   "metadata": {},
   "source": [
    "## Minimum Stable Loading\n",
    "The MSL feature is, by default, considered in NEMGLO by `load_h2_parameters_preset` and `add_electrolyser_operation` if the `minload` value parsed is greater than zero."
   ]
  },
  {
   "cell_type": "markdown",
   "metadata": {},
   "source": [
    "Creating the `Plan` and `Electrolyser` objects"
   ]
  },
  {
   "cell_type": "code",
   "execution_count": 228,
   "metadata": {},
   "outputs": [],
   "source": [
    "P2G = Plan(identifier = \"P2G\")\n",
    "P2G.load_market_prices(prices)"
   ]
  },
  {
   "cell_type": "code",
   "execution_count": 229,
   "metadata": {},
   "outputs": [],
   "source": [
    "h2e = Electrolyser(P2G, identifier='H2E')"
   ]
  },
  {
   "cell_type": "code",
   "execution_count": 230,
   "metadata": {},
   "outputs": [],
   "source": [
    "h2e.load_h2_parameters_preset(capacity = 100.0,\n",
    "                              maxload = 100.0,\n",
    "                              minload = 20.0,\n",
    "                              offload = 0.0,\n",
    "                              electrolyser_type = 'PEM',\n",
    "                              sec_profile = 'fixed',\n",
    "                              h2_price_kg = 6.0)"
   ]
  },
  {
   "cell_type": "code",
   "execution_count": 231,
   "metadata": {},
   "outputs": [],
   "source": [
    "h2e.add_electrolyser_operation()"
   ]
  },
  {
   "cell_type": "markdown",
   "metadata": {},
   "source": [
    "In this example, we use additional features of `set_production_target` to force the electrolyser to operate closer to its minimum stable load. There is still a price incentive to maximise production, that is `h2_price_kg` is set to $6/kg above, yet we add a limit maximum production limit of 15 tonnes of H2 per day and a minimum production limit of 200 kg per hour.\n",
    "\n",
    "```{note} The <code>_set_</code> function calls are more advanced features of NEMGLO which are **post-operands**. They must be called after <code>add_electrolyser_operation</code> since the <code>add_</code> function creates optimiser variables which are later used by <code>set_</code> functions to create additional constraints\n",
    "```"
   ]
  },
  {
   "cell_type": "code",
   "execution_count": 232,
   "metadata": {},
   "outputs": [],
   "source": [
    "h2e._set_production_target(target_value=15000,bound=\"max\", period=\"day\")\n",
    "h2e._set_production_target(target_value=200,bound=\"min\", period=\"hour\")"
   ]
  },
  {
   "cell_type": "markdown",
   "metadata": {},
   "source": [
    "Additionally, we will impose a cost on the ramping of the electrolyser load to mimick more realistic behaviour. This 'smooths' the load profile which otherwise looks very 'jaggered' as a result of the optimiser setting load in one interval zero and high in the next in order to meet the production target. \n",
    "\n",
    "Such a cost can be treated as a shadow cost for the optimiser. It would not be incurred by the load participant. "
   ]
  },
  {
   "cell_type": "code",
   "execution_count": 233,
   "metadata": {},
   "outputs": [],
   "source": [
    "h2e._set_ramp_variable()\n",
    "h2e._set_ramp_cost(cost=10)"
   ]
  },
  {
   "cell_type": "markdown",
   "metadata": {},
   "source": [
    "Now lets run the optimiser, extract results and plot them. Here we can also show the H2 produced to verify that the production targets are met, simply by using `get_production`."
   ]
  },
  {
   "cell_type": "code",
   "execution_count": 234,
   "metadata": {},
   "outputs": [
    {
     "name": "stdout",
     "output_type": "stream",
     "text": [
      "OPTIMISATION COMPLETE, Obj Value: -362357.14000366995\n"
     ]
    },
    {
     "data": {
      "text/plain": [
       "<mip.model.Model at 0x174c2e58730>"
      ]
     },
     "execution_count": 234,
     "metadata": {},
     "output_type": "execute_result"
    }
   ],
   "source": [
    "P2G.optimise(solver_name=\"CBC\", save_debug=False, save_results=False, results_dir=None)"
   ]
  },
  {
   "cell_type": "code",
   "execution_count": 235,
   "metadata": {},
   "outputs": [],
   "source": [
    "result_load = P2G.get_load()\n",
    "result_product = P2G.get_production()"
   ]
  },
  {
   "cell_type": "code",
   "execution_count": 236,
   "metadata": {},
   "outputs": [],
   "source": [
    "fig = go.Figure()\n",
    "fig.update_layout(title='<b>NEMGLO Electrolyser MSL Demonstration<br><sup>VIC: Jan-2020</sup></b>', titlefont=dict(size=24),\n",
    "                  margin=dict(l=20, r=20, t=60, b=0),\n",
    "                  xaxis=dict(title=\"Time\", showgrid=False, mirror=True, titlefont=dict(size=18), \\\n",
    "                    tickfont=dict(size=18), tickangle=-45, tickformat=\"%d-%b\",  domain=[0.15, 1]),\n",
    "                  yaxis=dict(title=\"Load Dispatch (MW)\", showgrid=False, range=[-10,140], mirror=True, titlefont=dict(size=18),\\\n",
    "                    tickfont=dict(size=18), tickvals=[i for i in range(-20, 140, 20)], rangemode=\"tozero\", scaleanchor=\"y2\", scaleratio=4, color='#7F22A6'),\n",
    "                  yaxis2=dict(title=\"H2 volume (kg)\", showgrid=False, mirror=True, titlefont=dict(size=18),\\\n",
    "                    tickfont=dict(size=18), anchor=\"free\", overlaying=\"y\", side=\"left\", position=0.02, rangemode=\"tozero\", \\\n",
    "                      scaleanchor=\"y\", scaleratio=1, color=\"darkorange\"),\n",
    "                  yaxis3=dict(title=\"Price ($/MWh)\", showgrid=False, gridcolor='slategrey', range=[-250,150], mirror=True, \\\n",
    "                    titlefont=dict(size=18),tickfont=dict(size=18), anchor=\"x\", overlaying=\"y\", side=\"right\", color=\"#972f42\"),\n",
    "                  legend=dict(xanchor='center',x=0.55, y=-0.35, orientation='h', font=dict(size=20)),\n",
    "                  template=\"simple_white\",\n",
    "                  font_family=\"Times New Roman\",\n",
    "                  xaxis_showgrid=True,\n",
    "                  yaxis_showgrid=True,\n",
    "                  width=1000,\n",
    "                  height=600)\n",
    "fmt_timestamps = [dt.strftime(prices['Time'][i], \"%d-%b %H:%M\") for i in range(len(prices))]\n",
    "fig.add_trace(go.Scatter(x=prices['Time'], y=prices['Prices'],name=\"Price ($/MWh)\", \\\n",
    "    line={'color':'#972f42'}, yaxis=\"y3\"))\n",
    "fig.add_trace(go.Scatter(x=result_load['time'], y=result_load['value'],name='Load (MW)', \\\n",
    "    line={'color':'#7F22A6'}))\n",
    "fig.add_trace(go.Scatter(x=result_product['time'], y=result_product['value'],name='H2 Produced (kg)', \\\n",
    "    line={'color':'darkorange'}, yaxis=\"y2\"))\n",
    "\n",
    "for ser in fig['data']:\n",
    "  ser['text'] = [dt.strftime(prices['Time'][i], \"%d-%b %H:%M\") for i in range(len(prices))]\n",
    "  ser['hovertemplate'] = 'Time: %{text}<br>Value: %{y}'\n",
    "\n",
    "fig.show()"
   ]
  },
  {
   "cell_type": "markdown",
   "metadata": {},
   "source": [
    "```{include} example_electrolyser_msl.html \n",
    "```"
   ]
  },
  {
   "cell_type": "markdown",
   "metadata": {},
   "source": [
    "## Specific Energy Consumption\n",
    "The SEC functionality in NEMGLO is two-fold; a **fixed** profile, whereby all load (MW) produces an equivalent amount of hydrogen based on the defined SEC (kWh/kg), or a **variable** profile whereby the energy consumption (kWh/kg) varies depending on the load (MW).\n",
    "\n",
    "To demonstrate these features, we iterate through an arbitrary simulation period and each iteration force the load to a certain MW value using the advanced feature `_set_force_h2_load`. These iterations are then repeated for each combination of `fixed` and `variable` with both `PEM` and `AE` electrolyser types."
   ]
  },
  {
   "cell_type": "code",
   "execution_count": 237,
   "metadata": {},
   "outputs": [
    {
     "name": "stdout",
     "output_type": "stream",
     "text": [
      "Compiling data for table DISPATCHPRICE.\n",
      "Returning DISPATCHPRICE.\n"
     ]
    }
   ],
   "source": [
    "inputdata = nemosis_data(intlength=30, local_cache=r'E:\\TEMPCACHE')\n",
    "start = \"02/01/2020 00:00\"\n",
    "end = \"02/01/2020 01:00\"\n",
    "region = 'VIC1'\n",
    "inputdata.set_dates(start, end)\n",
    "inputdata.set_region(region)\n",
    "prices = inputdata.get_prices()"
   ]
  },
  {
   "cell_type": "markdown",
   "metadata": {},
   "source": [
    "For a fixed SEC profile using PEM"
   ]
  },
  {
   "cell_type": "code",
   "execution_count": null,
   "metadata": {},
   "outputs": [],
   "source": [
    "pem_xpoints_f, pem_ypoints_f = [], []\n",
    "\n",
    "for x_val in range(20,101,1):\n",
    "    P2G = Plan('P2G')\n",
    "    P2G.load_market_prices(prices)\n",
    "\n",
    "    h2e = Electrolyser(P2G, identifier='H2E')\n",
    "    h2e.load_h2_parameters_preset(capacity = 100.0,\n",
    "                              maxload = 100.0,\n",
    "                              minload = 20.0,\n",
    "                              offload = 0.0,\n",
    "                              electrolyser_type = 'PEM',\n",
    "                              sec_profile = 'fixed',\n",
    "                              h2_price_kg = 6.0)\n",
    "    h2e.add_electrolyser_operation()\n",
    "    h2e._set_force_h2_load(mw_value=x_val)\n",
    "    P2G.optimise()\n",
    "\n",
    "    result_load = P2G.get_load()\n",
    "    result_product = P2G.get_production()\n",
    "    pem_xpoints_f += [float(result_load.loc[result_load['interval']==0,'value'])]\n",
    "    pem_ypoints_f += [float(result_product.loc[result_product['interval']==0,'value'])]"
   ]
  },
  {
   "cell_type": "markdown",
   "metadata": {},
   "source": [
    "For a variable SEC profile using PEM"
   ]
  },
  {
   "cell_type": "code",
   "execution_count": null,
   "metadata": {},
   "outputs": [],
   "source": [
    "pem_xpoints, pem_ypoints = [], []\n",
    "\n",
    "for x_val in range(20,101,1):\n",
    "    P2G = Plan('P2G')\n",
    "    P2G.load_market_prices(prices)\n",
    "\n",
    "    h2e = Electrolyser(P2G, identifier='H2E')\n",
    "    h2e.load_h2_parameters_preset(capacity = 100.0,\n",
    "                              maxload = 100.0,\n",
    "                              minload = 20.0,\n",
    "                              offload = 0.0,\n",
    "                              electrolyser_type = 'PEM',\n",
    "                              sec_profile = 'variable',\n",
    "                              h2_price_kg = 6.0)\n",
    "    h2e.add_electrolyser_operation()\n",
    "    h2e._set_force_h2_load(mw_value=x_val)\n",
    "    P2G.optimise()\n",
    "\n",
    "    result_load = P2G.get_load()\n",
    "    result_product = P2G.get_production()\n",
    "    pem_xpoints += [float(result_load.loc[result_load['interval']==0,'value'])]\n",
    "    pem_ypoints += [float(result_product.loc[result_product['interval']==0,'value'])]\n",
    "\n",
    "# Save predefined SEC points for plotting\n",
    "pem_sec_spec = h2e._sec_variable_points"
   ]
  },
  {
   "cell_type": "markdown",
   "metadata": {},
   "source": [
    "For a fixed profile using AE"
   ]
  },
  {
   "cell_type": "code",
   "execution_count": null,
   "metadata": {},
   "outputs": [],
   "source": [
    "ae_xpoints_f, ae_ypoints_f = [], []\n",
    "\n",
    "for x_val in range(20,101,1):\n",
    "    P2G = Plan('P2G')\n",
    "    P2G.load_market_prices(prices)\n",
    "\n",
    "    h2e = Electrolyser(P2G, identifier='H2E')\n",
    "    h2e.load_h2_parameters_preset(capacity = 100.0,\n",
    "                              maxload = 100.0,\n",
    "                              minload = 20.0,\n",
    "                              offload = 0.0,\n",
    "                              electrolyser_type = 'AE',\n",
    "                              sec_profile = 'fixed',\n",
    "                              h2_price_kg = 6.0)\n",
    "    h2e.add_electrolyser_operation()\n",
    "    h2e._set_force_h2_load(mw_value=x_val)\n",
    "    P2G.optimise()\n",
    "\n",
    "    result_load = P2G.get_load()\n",
    "    result_product = P2G.get_production()\n",
    "    ae_xpoints_f += [float(result_load.loc[result_load['interval']==0,'value'])]\n",
    "    ae_ypoints_f += [float(result_product.loc[result_product['interval']==0,'value'])]"
   ]
  },
  {
   "cell_type": "markdown",
   "metadata": {},
   "source": [
    "For a variable profile using AE"
   ]
  },
  {
   "cell_type": "code",
   "execution_count": null,
   "metadata": {},
   "outputs": [],
   "source": [
    "ae_xpoints, ae_ypoints = [], []\n",
    "\n",
    "for x_val in range(20,101,1):\n",
    "    P2G = Plan('P2G')\n",
    "    P2G.load_market_prices(prices)\n",
    "\n",
    "    h2e = Electrolyser(P2G, identifier='H2E')\n",
    "    h2e.load_h2_parameters_preset(capacity = 100.0,\n",
    "                              maxload = 100.0,\n",
    "                              minload = 20.0,\n",
    "                              offload = 0.0,\n",
    "                              electrolyser_type = 'AE',\n",
    "                              sec_profile = 'variable',\n",
    "                              h2_price_kg = 6.0)\n",
    "    h2e.add_electrolyser_operation()\n",
    "    h2e._set_force_h2_load(mw_value=x_val)\n",
    "    P2G.optimise()\n",
    "\n",
    "    result_load = P2G.get_load()\n",
    "    result_product = P2G.get_production()\n",
    "    ae_xpoints += [float(result_load.loc[result_load['interval']==0,'value'])]\n",
    "    ae_ypoints += [float(result_product.loc[result_product['interval']==0,'value'])]\n",
    "\n",
    "# Save predefined SEC points for plotting\n",
    "ae_sec_spec = h2e._sec_variable_points"
   ]
  },
  {
   "cell_type": "markdown",
   "metadata": {},
   "source": [
    "Note that for variable SEC profiles, NEMGLO uses a Special Ordered Set Type 2 which directly converts from load (MW) to hydrogen production (kg). As such there is no variable storing the SEC (kWh/kg) for each interval. We can infer this value by the calculation below."
   ]
  },
  {
   "cell_type": "code",
   "execution_count": 254,
   "metadata": {},
   "outputs": [],
   "source": [
    "# PEM\n",
    "pem_sec_y_variable = [(pem_xpoints[i] * 0.5 * 1000) / pem_ypoints[i] \\\n",
    "                      for i in range(1,len(pem_xpoints))]\n",
    "pem_sec_y_defined = [(pem_sec_spec['h2e_load'].to_list()[i] * 0.5 * 1000) \\\n",
    "                     / pem_sec_spec['h2_volume'].to_list()[i] for i in \\\n",
    "                     range(1,len(pem_sec_spec['h2e_load']))]\n",
    "pem_sec_fix_y_variable = [(pem_xpoints_f[i] * 0.5 * 1000) / pem_ypoints_f[i] \\\n",
    "                          for i in range(1,len(pem_xpoints_f))]\n",
    "\n",
    "## AE\n",
    "ae_sec_y_variable = [(ae_xpoints[i] * 0.5 * 1000) / ae_ypoints[i] \\\n",
    "                     for i in range(1,len(ae_xpoints))]\n",
    "ae_sec_y_defined = [(ae_sec_spec['h2e_load'].to_list()[i] * 0.5 * 1000) \\\n",
    "                    / ae_sec_spec['h2_volume'].to_list()[i] for i in \\\n",
    "                    range(1,len(ae_sec_spec['h2e_load']))]\n",
    "ae_sec_fix_y_variable = [(ae_xpoints_f[i] * 0.5 * 1000) / ae_ypoints_f[i] \\\n",
    "                         for i in range(1,len(ae_xpoints_f))]"
   ]
  },
  {
   "cell_type": "markdown",
   "metadata": {},
   "source": [
    "Plotting the relationship between the amount of hydrogen produced against load (MW) yields..."
   ]
  },
  {
   "cell_type": "code",
   "execution_count": 260,
   "metadata": {},
   "outputs": [],
   "source": [
    "fig = go.Figure()\n",
    "PALETTE = ['#b2d4ee','#849db1','#4f6980',\n",
    "           '#B4E3BC','#89AE8F','#638b66',\n",
    "           '#ffb04f','#de9945','#af7635',\n",
    "           '#ff7371','#d6635f','#b65551',\n",
    "           '#AD134C','#cc688d','#ff82b0']  \n",
    "\n",
    "# PEM\n",
    "fig.add_trace(go.Scatter(x=pem_sec_spec['h2e_load'][1:], y=pem_sec_spec['h2_volume'][1:], mode='markers', name=\"Input SEC points [PEM]\",\n",
    "    legendgroup='marker', marker_symbol=\"diamond\", marker_size=14, line={'color':PALETTE[2]}))\n",
    "fig.add_trace(go.Scatter(x=pem_xpoints, y=pem_ypoints, mode='lines', name=\"Variable SEC mode [PEM]\", line_width=3,\n",
    "    legendgroup='var', line={'color':PALETTE[2],'dash': 'dash'}))\n",
    "fig.add_trace(go.Scatter(x=pem_xpoints_f, y=pem_ypoints_f, mode='lines', name=\"Fixed SEC mode [PEM]\", line_width=3,\n",
    "    legendgroup='fix', line={'color':PALETTE[2]}))\n",
    "\n",
    "# AE\n",
    "fig.add_trace(go.Scatter(x=ae_sec_spec['h2e_load'][1:], y=ae_sec_spec['h2_volume'][1:], mode='markers', name=\"Input SEC points [AE]\",\n",
    "    legendgroup='marker', marker_symbol=\"diamond\", marker_size=14, line={'color':PALETTE[5]}))\n",
    "fig.add_trace(go.Scatter(x=ae_xpoints, y=ae_ypoints, mode='lines', name=\"Variable SEC mode [AE]\", line_width=3,\n",
    "    legendgroup='var', line={'color':PALETTE[5],'dash': 'dash'}))\n",
    "fig.add_trace(go.Scatter(x=ae_xpoints_f, y=ae_ypoints_f, mode='lines', name=\"Fixed SEC mode [AE]\", line_width=3,\n",
    "    legendgroup='fix',  line={'color':PALETTE[5]}))\n",
    "\n",
    "# Layout\n",
    "fig.update_layout(title=\"<b>NEMGLO Hydrogen Production vs Load Relationship</b>\", titlefont=dict(size=24),\n",
    "    margin=dict(l=20, r=20, t=50, b=0),\n",
    "    xaxis=dict(title=\"Electrolyser Load (MW)\", showgrid=True, mirror=True, titlefont=dict(size=24), tickfont=dict(size=24)),\n",
    "    yaxis=dict(title=\"Hydrogen Produced (kg)\", showgrid=True, mirror=True, titlefont=dict(size=24), tickfont=dict(size=24)),\n",
    "    legend=dict(xanchor='center',x=0.5, y=-0.18, orientation='h', font=dict(size=20)),\n",
    "    template=\"simple_white\",\n",
    "    width=1000,\n",
    "    height=600,\n",
    "    font_family=\"Times New Roman\",\n",
    "    )\n",
    "fig.show()"
   ]
  },
  {
   "cell_type": "markdown",
   "metadata": {},
   "source": [
    "```{note} The load region between <code>offload</code> and <code>minload</code> is omitted here since the hydrogen should not operate within that region. The MSL constraint shown prior enforces such behaviour.\n",
    "```\n",
    "\n",
    "```{include} example_electrolyser_h2produced.html \n",
    "```"
   ]
  },
  {
   "cell_type": "markdown",
   "metadata": {},
   "source": [
    "Plotting the relationship between Specific Energy Consumption (SEC) and load (MW) yields..."
   ]
  },
  {
   "cell_type": "code",
   "execution_count": 261,
   "metadata": {},
   "outputs": [],
   "source": [
    "# PEM\n",
    "fig = go.Figure()\n",
    "fig.add_trace(go.Scatter(x=pem_sec_spec['h2e_load'][1:], y=pem_sec_y_defined, mode='markers', name=\"Input SEC points [PEM]\",\n",
    "    legendgroup='marker', marker_symbol=\"diamond\", marker_size=14, line={'color':PALETTE[2]}))\n",
    "fig.add_trace(go.Scatter(x=pem_xpoints, y=pem_sec_y_variable, mode='lines', name=\"Variable SEC mode [PEM]\", line_width=3,\n",
    "    legendgroup='var', line={'color':PALETTE[2], 'dash': 'dash'}))\n",
    "fig.add_trace(go.Scatter(x=pem_xpoints_f, y=pem_sec_fix_y_variable,  mode='lines', name=\"Fixed SEC mode [PEM]\", line_width=3,\n",
    "    legendgroup='fix', line={'color':PALETTE[2]}))\n",
    "\n",
    "# AE\n",
    "fig.add_trace(go.Scatter(x=ae_sec_spec['h2e_load'][1:], y=ae_sec_y_defined, mode='markers', name=\"Input SEC points [AE]\",\n",
    "    legendgroup='marker', marker_symbol=\"diamond\", marker_size=14, line={'color':PALETTE[5]}))\n",
    "fig.add_trace(go.Scatter(x=ae_xpoints, y=ae_sec_y_variable, mode='lines', name=\"Variable SEC mode [AE]\", line_width=3,\n",
    "    legendgroup='var', line={'color':PALETTE[5], 'dash': 'dash'}))\n",
    "fig.add_trace(go.Scatter(x=ae_xpoints_f, y=ae_sec_fix_y_variable,  mode='lines', name=\"Fixed SEC mode [AE]\", line_width=3,\n",
    "    legendgroup='fix', line={'color':PALETTE[5]}))\n",
    "\n",
    "# Layout\n",
    "fig.update_layout(title=\"<b>NEMGLO Specific Energy Consumption vs Load Relationship</b>\", titlefont=dict(size=24),\n",
    "    margin=dict(l=20, r=20, t=50, b=0),\n",
    "    xaxis=dict(title=\"Electrolyser Load (MW)\", showgrid=True, mirror=True, titlefont=dict(size=24), tickfont=dict(size=24)),\n",
    "    yaxis=dict(title=\"Specific Energy Consumption<br>(kWh/kg)\", showgrid=True, mirror=True, titlefont=dict(size=24), tickfont=dict(size=24)),\n",
    "    legend=dict(xanchor='center',x=0.5, y=-0.18, orientation='h', font=dict(size=20)),\n",
    "    template=\"simple_white\",\n",
    "    width=1000,\n",
    "    height=600,\n",
    "    font_family=\"Times New Roman\",\n",
    "    )\n",
    "\n",
    "fig.show()"
   ]
  },
  {
   "cell_type": "markdown",
   "metadata": {},
   "source": [
    "```{include} example_electrolyser_sec.html \n",
    "```"
   ]
  },
  {
   "cell_type": "markdown",
   "metadata": {},
   "source": [
    "## Hydrogen Storage"
   ]
  },
  {
   "cell_type": "code",
   "execution_count": 3,
   "metadata": {},
   "outputs": [
    {
     "name": "stdout",
     "output_type": "stream",
     "text": [
      "Compiling data for table DISPATCHPRICE.\n",
      "Returning DISPATCHPRICE.\n"
     ]
    }
   ],
   "source": [
    "inputdata = nemosis_data(intlength=30, local_cache=r'E:\\TEMPCACHE')\n",
    "start = \"02/01/2020 00:00\"\n",
    "end = \"09/01/2020 00:00\"\n",
    "region = 'VIC1'\n",
    "inputdata.set_dates(start, end)\n",
    "inputdata.set_region(region)\n",
    "prices = inputdata.get_prices()"
   ]
  },
  {
   "cell_type": "code",
   "execution_count": 11,
   "metadata": {},
   "outputs": [
    {
     "name": "stdout",
     "output_type": "stream",
     "text": [
      "OPTIMISATION COMPLETE, Obj Value: -719478.052285357\n"
     ]
    }
   ],
   "source": [
    "P2G = Plan(identifier = \"P2G\")\n",
    "P2G.load_market_prices(prices)\n",
    "\n",
    "h2e = Electrolyser(P2G, identifier='H2E')\n",
    "h2e.load_h2_parameters_preset(capacity = 100.0,\n",
    "                            maxload = 100.0,\n",
    "                            minload = 0.0,\n",
    "                            offload = 0.0,\n",
    "                            electrolyser_type = 'PEM',\n",
    "                            sec_profile = 'fixed',\n",
    "                            h2_price_kg = 6.0)\n",
    "h2e.add_electrolyser_operation()\n",
    "\n",
    "# Storage\n",
    "h2e._storage_max = 50000000\n",
    "\n",
    "h2e._set_h2_production_tracking()\n",
    "h2e._set_h2_storage_max()\n",
    "\n",
    "P2G.optimise()\n",
    "\n",
    "result_load = P2G.get_load()\n"
   ]
  },
  {
   "cell_type": "code",
   "execution_count": 12,
   "metadata": {},
   "outputs": [
    {
     "data": {
      "text/plain": [
       "array(['H2E-mw_load', 'H2E-mw_load_sum', 'H2E-h2_produced',\n",
       "       'H2E-h2_produced_sum', 'H2E-h2_stored'], dtype=object)"
      ]
     },
     "execution_count": 12,
     "metadata": {},
     "output_type": "execute_result"
    }
   ],
   "source": [
    "P2G._out_vars['variable_name'].unique()"
   ]
  },
  {
   "cell_type": "code",
   "execution_count": 13,
   "metadata": {},
   "outputs": [
    {
     "data": {
      "text/html": [
       "<div>\n",
       "<style scoped>\n",
       "    .dataframe tbody tr th:only-of-type {\n",
       "        vertical-align: middle;\n",
       "    }\n",
       "\n",
       "    .dataframe tbody tr th {\n",
       "        vertical-align: top;\n",
       "    }\n",
       "\n",
       "    .dataframe thead th {\n",
       "        text-align: right;\n",
       "    }\n",
       "</style>\n",
       "<table border=\"1\" class=\"dataframe\">\n",
       "  <thead>\n",
       "    <tr style=\"text-align: right;\">\n",
       "      <th></th>\n",
       "      <th>interval</th>\n",
       "      <th>value</th>\n",
       "      <th>time</th>\n",
       "    </tr>\n",
       "  </thead>\n",
       "  <tbody>\n",
       "    <tr>\n",
       "      <th>0</th>\n",
       "      <td>0</td>\n",
       "      <td>757.575758</td>\n",
       "      <td>2020-01-02 00:30:00</td>\n",
       "    </tr>\n",
       "    <tr>\n",
       "      <th>1</th>\n",
       "      <td>1</td>\n",
       "      <td>1515.151515</td>\n",
       "      <td>2020-01-02 01:00:00</td>\n",
       "    </tr>\n",
       "    <tr>\n",
       "      <th>2</th>\n",
       "      <td>2</td>\n",
       "      <td>2272.727273</td>\n",
       "      <td>2020-01-02 01:30:00</td>\n",
       "    </tr>\n",
       "    <tr>\n",
       "      <th>3</th>\n",
       "      <td>3</td>\n",
       "      <td>3030.303030</td>\n",
       "      <td>2020-01-02 02:00:00</td>\n",
       "    </tr>\n",
       "    <tr>\n",
       "      <th>4</th>\n",
       "      <td>4</td>\n",
       "      <td>3787.878788</td>\n",
       "      <td>2020-01-02 02:30:00</td>\n",
       "    </tr>\n",
       "    <tr>\n",
       "      <th>...</th>\n",
       "      <td>...</td>\n",
       "      <td>...</td>\n",
       "      <td>...</td>\n",
       "    </tr>\n",
       "    <tr>\n",
       "      <th>331</th>\n",
       "      <td>331</td>\n",
       "      <td>248484.848485</td>\n",
       "      <td>2020-01-08 22:00:00</td>\n",
       "    </tr>\n",
       "    <tr>\n",
       "      <th>332</th>\n",
       "      <td>332</td>\n",
       "      <td>249242.424242</td>\n",
       "      <td>2020-01-08 22:30:00</td>\n",
       "    </tr>\n",
       "    <tr>\n",
       "      <th>333</th>\n",
       "      <td>333</td>\n",
       "      <td>250000.000000</td>\n",
       "      <td>2020-01-08 23:00:00</td>\n",
       "    </tr>\n",
       "    <tr>\n",
       "      <th>334</th>\n",
       "      <td>334</td>\n",
       "      <td>250757.575758</td>\n",
       "      <td>2020-01-08 23:30:00</td>\n",
       "    </tr>\n",
       "    <tr>\n",
       "      <th>335</th>\n",
       "      <td>335</td>\n",
       "      <td>251515.151515</td>\n",
       "      <td>2020-01-09 00:00:00</td>\n",
       "    </tr>\n",
       "  </tbody>\n",
       "</table>\n",
       "<p>336 rows × 3 columns</p>\n",
       "</div>"
      ],
      "text/plain": [
       "    interval          value                time\n",
       "0          0     757.575758 2020-01-02 00:30:00\n",
       "1          1    1515.151515 2020-01-02 01:00:00\n",
       "2          2    2272.727273 2020-01-02 01:30:00\n",
       "3          3    3030.303030 2020-01-02 02:00:00\n",
       "4          4    3787.878788 2020-01-02 02:30:00\n",
       "..       ...            ...                 ...\n",
       "331      331  248484.848485 2020-01-08 22:00:00\n",
       "332      332  249242.424242 2020-01-08 22:30:00\n",
       "333      333  250000.000000 2020-01-08 23:00:00\n",
       "334      334  250757.575758 2020-01-08 23:30:00\n",
       "335      335  251515.151515 2020-01-09 00:00:00\n",
       "\n",
       "[336 rows x 3 columns]"
      ]
     },
     "execution_count": 13,
     "metadata": {},
     "output_type": "execute_result"
    }
   ],
   "source": [
    "P2G._format_out_vars_timeseries('H2E-h2_stored')"
   ]
  },
  {
   "cell_type": "code",
   "execution_count": 14,
   "metadata": {},
   "outputs": [
    {
     "data": {
      "text/html": [
       "<div>\n",
       "<style scoped>\n",
       "    .dataframe tbody tr th:only-of-type {\n",
       "        vertical-align: middle;\n",
       "    }\n",
       "\n",
       "    .dataframe tbody tr th {\n",
       "        vertical-align: top;\n",
       "    }\n",
       "\n",
       "    .dataframe thead th {\n",
       "        text-align: right;\n",
       "    }\n",
       "</style>\n",
       "<table border=\"1\" class=\"dataframe\">\n",
       "  <thead>\n",
       "    <tr style=\"text-align: right;\">\n",
       "      <th></th>\n",
       "      <th>interval</th>\n",
       "      <th>value</th>\n",
       "      <th>time</th>\n",
       "    </tr>\n",
       "  </thead>\n",
       "  <tbody>\n",
       "    <tr>\n",
       "      <th>0</th>\n",
       "      <td>0</td>\n",
       "      <td>757.575758</td>\n",
       "      <td>2020-01-02 00:30:00</td>\n",
       "    </tr>\n",
       "    <tr>\n",
       "      <th>1</th>\n",
       "      <td>1</td>\n",
       "      <td>757.575758</td>\n",
       "      <td>2020-01-02 01:00:00</td>\n",
       "    </tr>\n",
       "    <tr>\n",
       "      <th>2</th>\n",
       "      <td>2</td>\n",
       "      <td>757.575758</td>\n",
       "      <td>2020-01-02 01:30:00</td>\n",
       "    </tr>\n",
       "    <tr>\n",
       "      <th>3</th>\n",
       "      <td>3</td>\n",
       "      <td>757.575758</td>\n",
       "      <td>2020-01-02 02:00:00</td>\n",
       "    </tr>\n",
       "    <tr>\n",
       "      <th>4</th>\n",
       "      <td>4</td>\n",
       "      <td>757.575758</td>\n",
       "      <td>2020-01-02 02:30:00</td>\n",
       "    </tr>\n",
       "    <tr>\n",
       "      <th>...</th>\n",
       "      <td>...</td>\n",
       "      <td>...</td>\n",
       "      <td>...</td>\n",
       "    </tr>\n",
       "    <tr>\n",
       "      <th>331</th>\n",
       "      <td>331</td>\n",
       "      <td>757.575758</td>\n",
       "      <td>2020-01-08 22:00:00</td>\n",
       "    </tr>\n",
       "    <tr>\n",
       "      <th>332</th>\n",
       "      <td>332</td>\n",
       "      <td>757.575758</td>\n",
       "      <td>2020-01-08 22:30:00</td>\n",
       "    </tr>\n",
       "    <tr>\n",
       "      <th>333</th>\n",
       "      <td>333</td>\n",
       "      <td>757.575758</td>\n",
       "      <td>2020-01-08 23:00:00</td>\n",
       "    </tr>\n",
       "    <tr>\n",
       "      <th>334</th>\n",
       "      <td>334</td>\n",
       "      <td>757.575758</td>\n",
       "      <td>2020-01-08 23:30:00</td>\n",
       "    </tr>\n",
       "    <tr>\n",
       "      <th>335</th>\n",
       "      <td>335</td>\n",
       "      <td>757.575758</td>\n",
       "      <td>2020-01-09 00:00:00</td>\n",
       "    </tr>\n",
       "  </tbody>\n",
       "</table>\n",
       "<p>336 rows × 3 columns</p>\n",
       "</div>"
      ],
      "text/plain": [
       "    interval       value                time\n",
       "0          0  757.575758 2020-01-02 00:30:00\n",
       "1          1  757.575758 2020-01-02 01:00:00\n",
       "2          2  757.575758 2020-01-02 01:30:00\n",
       "3          3  757.575758 2020-01-02 02:00:00\n",
       "4          4  757.575758 2020-01-02 02:30:00\n",
       "..       ...         ...                 ...\n",
       "331      331  757.575758 2020-01-08 22:00:00\n",
       "332      332  757.575758 2020-01-08 22:30:00\n",
       "333      333  757.575758 2020-01-08 23:00:00\n",
       "334      334  757.575758 2020-01-08 23:30:00\n",
       "335      335  757.575758 2020-01-09 00:00:00\n",
       "\n",
       "[336 rows x 3 columns]"
      ]
     },
     "execution_count": 14,
     "metadata": {},
     "output_type": "execute_result"
    }
   ],
   "source": [
    "P2G._format_out_vars_timeseries('H2E-h2_produced')"
   ]
  },
  {
   "cell_type": "code",
   "execution_count": null,
   "metadata": {},
   "outputs": [],
   "source": []
  }
 ],
 "metadata": {
  "kernelspec": {
   "display_name": "Python 3.9.12 ('nempy')",
   "language": "python",
   "name": "python3"
  },
  "language_info": {
   "codemirror_mode": {
    "name": "ipython",
    "version": 3
   },
   "file_extension": ".py",
   "mimetype": "text/x-python",
   "name": "python",
   "nbconvert_exporter": "python",
   "pygments_lexer": "ipython3",
   "version": "3.9.12"
  },
  "vscode": {
   "interpreter": {
    "hash": "4aab49ac747d4948ee2428bd46f4ac833ef94a37ecb38233c747c75e4d05fe4b"
   }
  }
 },
 "nbformat": 4,
 "nbformat_minor": 2
}
